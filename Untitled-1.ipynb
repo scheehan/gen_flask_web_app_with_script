{
 "cells": [
  {
   "cell_type": "code",
   "execution_count": 14,
   "metadata": {},
   "outputs": [
    {
     "name": "stdout",
     "output_type": "stream",
     "text": [
      "/Users/cheehan/Documents/workspace\n",
      "/Users/cheehan/Documents/workspace/gen_flask_web_app_with_script\n"
     ]
    }
   ],
   "source": [
    "import argparse, os\n",
    "from pathlib import Path\n",
    "\n",
    "parser = argparse.ArgumentParser(description='create python flask web app and others')\n",
    "parser.add_argument(dest='foldername', metavar='foldername', nargs='?', action='store')\n",
    "parser.add_argument('-p', '--path', dest='path', metavar='path name', action='store', default='.')\n",
    "parser.add_argument('-a', '--app', metavar='app name', dest='progr', action='store', default='flask')\n",
    "\n",
    "parser.parse_args(args=[])\n",
    "\n",
    "basedir = os.path.abspath(os.path.dirname(__name__))\n",
    "\n",
    "print(Path(basedir).parents[0])\n",
    "print(basedir)"
   ]
  }
 ],
 "metadata": {
  "kernelspec": {
   "display_name": ".venv",
   "language": "python",
   "name": "python3"
  },
  "language_info": {
   "codemirror_mode": {
    "name": "ipython",
    "version": 3
   },
   "file_extension": ".py",
   "mimetype": "text/x-python",
   "name": "python",
   "nbconvert_exporter": "python",
   "pygments_lexer": "ipython3",
   "version": "3.13.0"
  }
 },
 "nbformat": 4,
 "nbformat_minor": 2
}
